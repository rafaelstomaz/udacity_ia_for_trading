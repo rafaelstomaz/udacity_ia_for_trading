{
 "cells": [
  {
   "cell_type": "code",
   "execution_count": 136,
   "metadata": {},
   "outputs": [],
   "source": [
    "main_path = '/Users/rafaelstomaz/Downloads/'\n",
    "class_name = 'AULA_6'\n",
    "subtitle_dir_name = 'Momentum+Trading+Subtitles'\n",
    "\n",
    "dir_path = main_path + class_name + '_' + subtitle_dir_name + '/'"
   ]
  },
  {
   "cell_type": "code",
   "execution_count": 137,
   "metadata": {},
   "outputs": [],
   "source": [
    "import glob\n",
    "files_path = sorted(glob.glob(dir_path + \"*.srt\"))"
   ]
  },
  {
   "cell_type": "code",
   "execution_count": 138,
   "metadata": {},
   "outputs": [],
   "source": [
    "def get_lines_from_file_to_string(file_path, text_str):\n",
    "    text = []\n",
    "\n",
    "    separator = '\\n===============================================================\\n'\n",
    "    with open(file_path, 'r') as file:\n",
    "        text_str = text_str + separator + file.name.replace(dir_path, '').replace(' - lang_en.srt', '') + separator +'\\n\\n' \n",
    "\n",
    "        line = file.readline()\n",
    "        cnt = 2\n",
    "        while line:\n",
    "            if cnt % 4 == 0:\n",
    "                text.append(line.strip())\n",
    "            line = file.readline()\n",
    "\n",
    "            cnt += 1\n",
    "\n",
    "    for t in text:\n",
    "        text_str = text_str + t\n",
    "        if t.endswith('.'):\n",
    "            text_str = text_str + '\\n\\n'\n",
    "\n",
    "    return text_str"
   ]
  },
  {
   "cell_type": "code",
   "execution_count": 139,
   "metadata": {},
   "outputs": [],
   "source": [
    "text_str = ''\n",
    "for file_path in files_path:\n",
    "    text_str = get_lines_from_file_to_string(file_path, text_str)"
   ]
  },
  {
   "cell_type": "code",
   "execution_count": 140,
   "metadata": {},
   "outputs": [],
   "source": [
    "with open(dir_path + class_name + '_compiled_file_en.txt', 'w') as file:\n",
    "    file.writelines(text_str)"
   ]
  }
 ],
 "metadata": {
  "kernelspec": {
   "display_name": "Python 3",
   "language": "python",
   "name": "python3"
  },
  "language_info": {
   "codemirror_mode": {
    "name": "ipython",
    "version": 3
   },
   "file_extension": ".py",
   "mimetype": "text/x-python",
   "name": "python",
   "nbconvert_exporter": "python",
   "pygments_lexer": "ipython3",
   "version": "3.5.5"
  }
 },
 "nbformat": 4,
 "nbformat_minor": 2
}
