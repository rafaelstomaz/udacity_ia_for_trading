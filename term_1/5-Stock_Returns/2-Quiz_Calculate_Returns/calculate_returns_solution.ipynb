{
 "cells": [
  {
   "cell_type": "markdown",
   "metadata": {},
   "source": [
    "## Imports"
   ]
  },
  {
   "cell_type": "code",
   "execution_count": 1,
   "metadata": {},
   "outputs": [],
   "source": [
    "import pandas as pd\n",
    "import quiz_tests"
   ]
  },
  {
   "cell_type": "markdown",
   "metadata": {},
   "source": [
    "## Quiz Solution\n"
   ]
  },
  {
   "cell_type": "code",
   "execution_count": 4,
   "metadata": {},
   "outputs": [
    {
     "name": "stdout",
     "output_type": "stream",
     "text": [
      "                   LPAM         VYW           KGS          RKD        HPHP\n",
      "2009-11-17  21.05081048 17.01384381   10.98450376  11.24809343 12.96171273\n",
      "2009-11-18  15.63570259 14.69054309   11.35302769 475.74195118 11.95964043\n",
      "2009-11-19 482.34539247 35.20258059 3516.54167823  66.40531433 13.50396048\n",
      "2009-11-20  10.91893302 17.90864387   24.80126542  12.48895419 10.52435923\n",
      "2009-11-21  10.67597197 12.74940144   11.80525758  21.53903949 19.99766037\n",
      "2009-11-22  11.54549538 23.98146843   24.97476306  36.03196210 14.30433232\n",
      "                   LPAM         VYW           KGS          RKD        HPHP\n",
      "2009-11-17          nan         nan           nan          nan         nan\n",
      "2009-11-18  21.05081048 17.01384381   10.98450376  11.24809343 12.96171273\n",
      "2009-11-19  15.63570259 14.69054309   11.35302769 475.74195118 11.95964043\n",
      "2009-11-20 482.34539247 35.20258059 3516.54167823  66.40531433 13.50396048\n",
      "2009-11-21  10.91893302 17.90864387   24.80126542  12.48895419 10.52435923\n",
      "2009-11-22  10.67597197 12.74940144   11.80525758  21.53903949 19.99766037\n",
      "Tests Passed\n"
     ]
    }
   ],
   "source": [
    "def calculate_returns(close):\n",
    "    \"\"\"\n",
    "    Compute returns for each ticker and date in close.\n",
    "    \n",
    "    Parameters\n",
    "    ----------\n",
    "    close : DataFrame\n",
    "        Close prices for each ticker and date\n",
    "    \n",
    "    Returns\n",
    "    -------\n",
    "    returns : DataFrame\n",
    "        Returns for each ticker and date\n",
    "    \"\"\"\n",
    "    # TODO: Implement Function\n",
    "    print(close)  \n",
    "    print(close.shift(1))\n",
    "    return (close - close.shift(1))/close.shift(1)\n",
    "\n",
    "\n",
    "quiz_tests.test_calculate_returns(calculate_returns)"
   ]
  },
  {
   "cell_type": "code",
   "execution_count": null,
   "metadata": {},
   "outputs": [],
   "source": []
  }
 ],
 "metadata": {
  "kernelspec": {
   "display_name": "Python 3",
   "language": "python",
   "name": "python3"
  },
  "language_info": {
   "codemirror_mode": {
    "name": "ipython",
    "version": 3
   },
   "file_extension": ".py",
   "mimetype": "text/x-python",
   "name": "python",
   "nbconvert_exporter": "python",
   "pygments_lexer": "ipython3",
   "version": "3.5.5"
  }
 },
 "nbformat": 4,
 "nbformat_minor": 2
}
